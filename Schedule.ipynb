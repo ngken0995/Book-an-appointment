{
  "nbformat": 4,
  "nbformat_minor": 0,
  "metadata": {
    "colab": {
      "name": "Schedulev2.ipynb",
      "provenance": [],
      "collapsed_sections": [],
      "authorship_tag": "ABX9TyOneGdVwvSzYi5TgBUNSpag",
      "include_colab_link": true
    },
    "kernelspec": {
      "name": "python3",
      "display_name": "Python 3"
    }
  },
  "cells": [
    {
      "cell_type": "markdown",
      "metadata": {
        "id": "view-in-github",
        "colab_type": "text"
      },
      "source": [
        "<a href=\"https://colab.research.google.com/github/ngken0995/Book-an-appointment/blob/Revise_1/Schedule.ipynb\" target=\"_parent\"><img src=\"https://colab.research.google.com/assets/colab-badge.svg\" alt=\"Open In Colab\"/></a>"
      ]
    },
    {
      "cell_type": "code",
      "metadata": {
        "id": "wtS_uJGHKAEE",
        "colab_type": "code",
        "colab": {}
      },
      "source": [
        ""
      ],
      "execution_count": 0,
      "outputs": []
    },
    {
      "cell_type": "markdown",
      "metadata": {
        "id": "Bdiq-5d0KUo-",
        "colab_type": "text"
      },
      "source": [
        "Patient / Doctor Scheduler - Create a patient class and a doctor class. Have a doctor that can handle multiple patients and setup a scheduling program where a doctor can only handle 16 patients during an 8 hr work day."
      ]
    },
    {
      "cell_type": "code",
      "metadata": {
        "id": "BY05rBT6SNnQ",
        "colab_type": "code",
        "colab": {}
      },
      "source": [
        "#Later, we can include the last name of a patient as their attribute.\n",
        "class Patient:\n",
        "  def __init__(self, firstName):\n",
        "    self.firstName = firstName\n",
        "    self.time = ''"
      ],
      "execution_count": 0,
      "outputs": []
    },
    {
      "cell_type": "code",
      "metadata": {
        "id": "tzydCZUQfpgO",
        "colab_type": "code",
        "colab": {}
      },
      "source": [
        "class Doctor:\n",
        "  def __init__(self,firstName, timeslot):\n",
        "    self.firstName = firstName\n",
        "    self.timeslot = timeslot\n",
        "\n",
        "  def __str__(self):\n",
        "    return f'{self.firstName} is selected'\n",
        "    "
      ],
      "execution_count": 0,
      "outputs": []
    },
    {
      "cell_type": "code",
      "metadata": {
        "id": "xqY5Cig1nqEy",
        "colab_type": "code",
        "colab": {}
      },
      "source": [
        "def selectDoctor(doctorList):\n",
        "  global doctor\n",
        "\n",
        "  while True:\n",
        "    doctor = input('Do you want to schedule an appointment with Dr. Jill or Dr. Ken?')\n",
        "    for person in doctorList:\n",
        "      \n",
        "      if person.firstName == doctor:\n",
        "        doctor = person\n",
        "        break\n",
        "    \n",
        "    else:\n",
        "      print(\"Sorry, please try again.\")\n",
        "      continue\n",
        "    break\n",
        "  "
      ],
      "execution_count": 0,
      "outputs": []
    },
    {
      "cell_type": "code",
      "metadata": {
        "id": "E66C_0Tddler",
        "colab_type": "code",
        "colab": {}
      },
      "source": [
        "def insertAppointment(patient, doctor):\n",
        "    if doctor.timeslot[patient.time] == '':\n",
        "      doctor.timeslot[patient.time] = patient.firstName\n",
        "      return doctor\n",
        "    \n"
      ],
      "execution_count": 0,
      "outputs": []
    },
    {
      "cell_type": "code",
      "metadata": {
        "id": "HsKUfstRglkc",
        "colab_type": "code",
        "colab": {}
      },
      "source": [
        "def noSpotLeft(doctor):\n",
        "  if '' not in doctor.timeslot.values():\n",
        "    print('All book')"
      ],
      "execution_count": 0,
      "outputs": []
    },
    {
      "cell_type": "code",
      "metadata": {
        "id": "0Bx3HTPDi774",
        "colab_type": "code",
        "colab": {}
      },
      "source": [
        "def alreadyScheduled(patient, doctor):\n",
        "  if patient.firstName in doctor.timeslot.values():\n",
        "    for k,v in doctor.timeslot.items():\n",
        "      if v == patient.firstName:\n",
        "        print(f'{v} already scheduled an appointment at {k}')"
      ],
      "execution_count": 0,
      "outputs": []
    },
    {
      "cell_type": "code",
      "metadata": {
        "id": "EeNJxshLjRp4",
        "colab_type": "code",
        "colab": {}
      },
      "source": [
        "def chooseAnotherTime(patient, doctor):\n",
        "\n",
        "  while True:\n",
        "    if doctor.timeslot[patient.time] != patient.firstName:\n",
        "      print('this date is not avaliable. We have these times open:')\n",
        "      for k,v in  doctor.timeslot.items():\n",
        "        if v == '':\n",
        "          print(k)\n",
        "      patient.time = input('Select another time: ')\n",
        "      insertAppointment(patient, doctor)\n",
        "    else:\n",
        "      break"
      ],
      "execution_count": 0,
      "outputs": []
    },
    {
      "cell_type": "code",
      "metadata": {
        "id": "ygUItjXCoEg9",
        "colab_type": "code",
        "colab": {}
      },
      "source": [
        "jillTimeslot = {'9:00':'','9:30':'','10:00':'','10:30':'','11:00':'','11:30':'',\n",
        "                '12:00':'','12:30':'','1:00':'','1:30':'','2:00':'','2:30':'',\n",
        "                '3:00':'','3:30':'','4:30':'','5:00':''}\n",
        "kenTimeslot = {'9:00':'','9:30':'','10:00':'','10:30':'','11:00':'','11:30':'',\n",
        "               '12:00':'','12:30':'','1:00':'','1:30':'','2:00':'','2:30':'',\n",
        "               '3:00':'','3:30':'','4:30':'','5:00':''}\n",
        "jill = Doctor('Dr. Jill', jillTimeslot)\n",
        "ken = Doctor('Dr. Ken', kenTimeslot)\n",
        "doctorList = [jill, ken]"
      ],
      "execution_count": 0,
      "outputs": []
    },
    {
      "cell_type": "code",
      "metadata": {
        "id": "HV10cQAVluy0",
        "colab_type": "code",
        "outputId": "8ff8ad97-b1ff-4156-98aa-aaf50cf89d8e",
        "colab": {
          "base_uri": "https://localhost:8080/",
          "height": 163
        }
      },
      "source": [
        "selectDoctor(doctorList)"
      ],
      "execution_count": 0,
      "outputs": [
        {
          "output_type": "error",
          "ename": "TypeError",
          "evalue": "ignored",
          "traceback": [
            "\u001b[0;31m---------------------------------------------------------------------------\u001b[0m",
            "\u001b[0;31mTypeError\u001b[0m                                 Traceback (most recent call last)",
            "\u001b[0;32m<ipython-input-53-2cb07885c074>\u001b[0m in \u001b[0;36m<module>\u001b[0;34m()\u001b[0m\n\u001b[0;32m----> 1\u001b[0;31m \u001b[0mpatient\u001b[0m \u001b[0;34m=\u001b[0m \u001b[0mPatient\u001b[0m\u001b[0;34m(\u001b[0m\u001b[0;34m)\u001b[0m\u001b[0;34m\u001b[0m\u001b[0;34m\u001b[0m\u001b[0m\n\u001b[0m",
            "\u001b[0;31mTypeError\u001b[0m: __init__() missing 1 required positional argument: 'firstName'"
          ]
        }
      ]
    },
    {
      "cell_type": "code",
      "metadata": {
        "id": "qHEYYGGzl3ov",
        "colab_type": "code",
        "colab": {}
      },
      "source": [
        "selectDoctor(doctorList)"
      ],
      "execution_count": 0,
      "outputs": []
    },
    {
      "cell_type": "code",
      "metadata": {
        "id": "-npMJvONoEZh",
        "colab_type": "code",
        "colab": {}
      },
      "source": [
        "pName = 'Mike'"
      ],
      "execution_count": 0,
      "outputs": []
    },
    {
      "cell_type": "code",
      "metadata": {
        "id": "5idmxgT4mcpN",
        "colab_type": "code",
        "colab": {}
      },
      "source": [
        "p = Patient(pName)"
      ],
      "execution_count": 0,
      "outputs": []
    },
    {
      "cell_type": "code",
      "metadata": {
        "id": "bv_-47m_mlmc",
        "colab_type": "code",
        "colab": {}
      },
      "source": [
        "p.time = '9:00'"
      ],
      "execution_count": 0,
      "outputs": []
    },
    {
      "cell_type": "code",
      "metadata": {
        "id": "qItCBvODmVWX",
        "colab_type": "code",
        "colab": {}
      },
      "source": [
        "insertAppointment(p, doctor)\n",
        "noSpotLeft(doctor)\n",
        "alreadyScheduled(p, doctor)\n"
      ],
      "execution_count": 0,
      "outputs": []
    },
    {
      "cell_type": "code",
      "metadata": {
        "id": "Fagr_xTumVYr",
        "colab_type": "code",
        "outputId": "82826aac-844b-4b2f-83b4-2c039c4a85e5",
        "colab": {
          "base_uri": "https://localhost:8080/",
          "height": 306
        }
      },
      "source": [
        "chooseAnotherTime(p, doctor)"
      ],
      "execution_count": 0,
      "outputs": [
        {
          "output_type": "stream",
          "text": [
            "this date is not avaliable. We have these times open:\n",
            "9:30\n",
            "10:00\n",
            "10:30\n",
            "11:00\n",
            "11:30\n",
            "12:00\n",
            "12:30\n",
            "1:00\n",
            "1:30\n",
            "2:00\n",
            "2:30\n",
            "3:00\n",
            "3:30\n",
            "4:30\n",
            "5:00\n",
            "Select another time: 10:00\n"
          ],
          "name": "stdout"
        }
      ]
    },
    {
      "cell_type": "code",
      "metadata": {
        "id": "AGOc1IH4KUTg",
        "colab_type": "code",
        "outputId": "cf6963f0-533d-4d1a-99eb-38e5ae3547d4",
        "colab": {
          "base_uri": "https://localhost:8080/",
          "height": 54
        }
      },
      "source": [
        "print(doctor.timeslot)"
      ],
      "execution_count": 0,
      "outputs": [
        {
          "output_type": "stream",
          "text": [
            "{'9:00': 'pName', '9:30': '', '10:00': 'Mike', '10:30': '', '11:00': '', '11:30': '', '12:00': '', '12:30': '', '1:00': '', '1:30': '', '2:00': '', '2:30': '', '3:00': '', '3:30': '', '4:30': '', '5:00': ''}\n"
          ],
          "name": "stdout"
        }
      ]
    },
    {
      "cell_type": "code",
      "metadata": {
        "id": "25q3VIkZKmAT",
        "colab_type": "code",
        "outputId": "492f07f4-048e-421f-f111-990c8cdfb371",
        "colab": {
          "base_uri": "https://localhost:8080/",
          "height": 282
        }
      },
      "source": [
        ""
      ],
      "execution_count": 0,
      "outputs": [
        {
          "output_type": "error",
          "ename": "ValueError",
          "evalue": "ignored",
          "traceback": [
            "\u001b[0;31m---------------------------------------------------------------------------\u001b[0m",
            "\u001b[0;31mValueError\u001b[0m                                Traceback (most recent call last)",
            "\u001b[0;32m<ipython-input-27-645c83fc2196>\u001b[0m in \u001b[0;36m<module>\u001b[0;34m()\u001b[0m\n\u001b[0;32m----> 1\u001b[0;31m \u001b[0mprint\u001b[0m\u001b[0;34m(\u001b[0m\u001b[0mken\u001b[0m\u001b[0;34m)\u001b[0m\u001b[0;34m\u001b[0m\u001b[0;34m\u001b[0m\u001b[0m\n\u001b[0m",
            "\u001b[0;32m<ipython-input-24-6511d8037dc7>\u001b[0m in \u001b[0;36m__str__\u001b[0;34m(self)\u001b[0m\n\u001b[1;32m      5\u001b[0m   \u001b[0;32mdef\u001b[0m \u001b[0m__str__\u001b[0m\u001b[0;34m(\u001b[0m\u001b[0mself\u001b[0m\u001b[0;34m)\u001b[0m\u001b[0;34m:\u001b[0m\u001b[0;34m\u001b[0m\u001b[0;34m\u001b[0m\u001b[0m\n\u001b[1;32m      6\u001b[0m     \u001b[0map\u001b[0m \u001b[0;34m=\u001b[0m\u001b[0;34m''\u001b[0m\u001b[0;34m\u001b[0m\u001b[0;34m\u001b[0m\u001b[0m\n\u001b[0;32m----> 7\u001b[0;31m     \u001b[0;32mfor\u001b[0m \u001b[0mk\u001b[0m\u001b[0;34m,\u001b[0m\u001b[0mv\u001b[0m \u001b[0;32min\u001b[0m \u001b[0mself\u001b[0m\u001b[0;34m.\u001b[0m\u001b[0mtimeslot\u001b[0m\u001b[0;34m:\u001b[0m\u001b[0;34m\u001b[0m\u001b[0;34m\u001b[0m\u001b[0m\n\u001b[0m\u001b[1;32m      8\u001b[0m       \u001b[0mtimes\u001b[0m \u001b[0;34m=\u001b[0m \u001b[0mk\u001b[0m\u001b[0;34m+\u001b[0m\u001b[0;34m', '\u001b[0m \u001b[0;34m+\u001b[0m \u001b[0mv\u001b[0m\u001b[0;34m\u001b[0m\u001b[0;34m\u001b[0m\u001b[0m\n\u001b[1;32m      9\u001b[0m       \u001b[0map\u001b[0m \u001b[0;34m+=\u001b[0m \u001b[0;34m\" \"\u001b[0m \u001b[0;34m+\u001b[0m \u001b[0mtimes\u001b[0m\u001b[0;34m\u001b[0m\u001b[0;34m\u001b[0m\u001b[0m\n",
            "\u001b[0;31mValueError\u001b[0m: too many values to unpack (expected 2)"
          ]
        }
      ]
    }
  ]
}
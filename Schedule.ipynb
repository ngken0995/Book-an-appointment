{
  "nbformat": 4,
  "nbformat_minor": 0,
  "metadata": {
    "colab": {
      "name": "Schedulev2.ipynb",
      "provenance": [],
      "collapsed_sections": [],
      "authorship_tag": "ABX9TyNBqrfTJAdy6R28nSQjqC2n",
      "include_colab_link": true
    },
    "kernelspec": {
      "name": "python3",
      "display_name": "Python 3"
    }
  },
  "cells": [
    {
      "cell_type": "markdown",
      "metadata": {
        "id": "view-in-github",
        "colab_type": "text"
      },
      "source": [
        "<a href=\"https://colab.research.google.com/github/ngken0995/Book-an-appointment/blob/Revise_1/Schedule.ipynb\" target=\"_parent\"><img src=\"https://colab.research.google.com/assets/colab-badge.svg\" alt=\"Open In Colab\"/></a>"
      ]
    },
    {
      "cell_type": "code",
      "metadata": {
        "id": "wtS_uJGHKAEE",
        "colab_type": "code",
        "colab": {}
      },
      "source": [
        ""
      ],
      "execution_count": 0,
      "outputs": []
    },
    {
      "cell_type": "markdown",
      "metadata": {
        "id": "Bdiq-5d0KUo-",
        "colab_type": "text"
      },
      "source": [
        "Patient / Doctor Scheduler - Create a patient class and a doctor class. Have a doctor that can handle multiple patients and setup a scheduling program where a doctor can only handle 16 patients during an 8 hr work day."
      ]
    },
    {
      "cell_type": "code",
      "metadata": {
        "id": "BY05rBT6SNnQ",
        "colab_type": "code",
        "colab": {}
      },
      "source": [
        "class Patient:\n",
        "  def __init__(self, firstName, time):\n",
        "    self.firstName = firstName\n",
        "    self.time = time"
      ],
      "execution_count": 0,
      "outputs": []
    },
    {
      "cell_type": "code",
      "metadata": {
        "id": "tzydCZUQfpgO",
        "colab_type": "code",
        "colab": {}
      },
      "source": [
        "class Doctor:\n",
        "  def __init__(self,firstName, timeslot):\n",
        "    self.firstName = firstName\n",
        "    self.timeslot = timeslot\n",
        "\n",
        "  def __str__(self):\n",
        "    return f'{self.firstName} is selected'\n",
        "  def __repr__(self):\n",
        "    return f'{self.firstName} is selected'\n",
        "    "
      ],
      "execution_count": 0,
      "outputs": []
    },
    {
      "cell_type": "code",
      "metadata": {
        "id": "xqY5Cig1nqEy",
        "colab_type": "code",
        "colab": {}
      },
      "source": [
        "def selectDoctor(doctorList):\n",
        "  global doctor\n",
        "\n",
        "  while True:\n",
        "    doctor = input('Do you want to schedule an appointment with Dr. Jill or Dr. Ken?')\n",
        "    for person in doctorList:\n",
        "      \n",
        "      if person.firstName == doctor:\n",
        "        doctor = person\n",
        "        break\n",
        "    \n",
        "    else:\n",
        "      print(\"Sorry, please try again.\")\n",
        "      continue\n",
        "    break\n",
        "  "
      ],
      "execution_count": 0,
      "outputs": []
    },
    {
      "cell_type": "code",
      "metadata": {
        "id": "E66C_0Tddler",
        "colab_type": "code",
        "colab": {}
      },
      "source": [
        "def insertAppointment(patient, doctor):\n",
        "    if doctor.timeslot[patient.time] == '':\n",
        "      doctor.timeslot[patient.time] = patient.firstName.capitalize()\n",
        "      print(f'{patient.firstName} is scheduled to see {doctor.firstName} at {patient.time}')"
      ],
      "execution_count": 0,
      "outputs": []
    },
    {
      "cell_type": "code",
      "metadata": {
        "id": "HsKUfstRglkc",
        "colab_type": "code",
        "colab": {}
      },
      "source": [
        "def noSpotLeft(doctor):\n",
        "  if '' not in doctor.timeslot.values():\n",
        "    print('All book')"
      ],
      "execution_count": 0,
      "outputs": []
    },
    {
      "cell_type": "code",
      "metadata": {
        "id": "0Bx3HTPDi774",
        "colab_type": "code",
        "colab": {}
      },
      "source": [
        "def alreadyScheduled(patient, doctor):\n",
        "  if patient.firstName in doctor.timeslot.values():\n",
        "    for k,v in doctor.timeslot.items():\n",
        "      if v == patient.firstName:\n",
        "        print(f'{v} already scheduled an appointment at {k}')"
      ],
      "execution_count": 0,
      "outputs": []
    },
    {
      "cell_type": "code",
      "metadata": {
        "id": "EeNJxshLjRp4",
        "colab_type": "code",
        "colab": {}
      },
      "source": [
        "def chooseAnotherTime(patient, doctor):\n",
        "\n",
        "  while True:\n",
        "    if doctor.timeslot[patient.time] != patient.firstName and '' in doctor.timeslot.values():\n",
        "      print('this date is not avaliable. We have these times open:')\n",
        "      for k,v in  doctor.timeslot.items():\n",
        "        if v == '':\n",
        "          print(k)\n",
        "      patient.time = input('Select another time: ')\n",
        "      insertAppointment(patient, doctor)\n",
        "    else:\n",
        "      break"
      ],
      "execution_count": 0,
      "outputs": []
    },
    {
      "cell_type": "code",
      "metadata": {
        "id": "7EKYFag622x3",
        "colab_type": "code",
        "colab": {}
      },
      "source": [
        "def insertTime(doctor):\n",
        "  global time\n",
        "  \n",
        "  while True:\n",
        "    if time not in doctor.timeslot.keys():\n",
        "      time = input('input the correct time: ')\n",
        "    else:\n",
        "      break\n"
      ],
      "execution_count": 0,
      "outputs": []
    },
    {
      "cell_type": "code",
      "metadata": {
        "id": "3GthxwMQuCWz",
        "colab_type": "code",
        "colab": {}
      },
      "source": [
        "jillTimeslot = {'9:00':'','9:30':'','10:00':'','10:30':'','11:00':'','11:30':'',\n",
        "                '12:00':'','12:30':'','1:00':'','1:30':'','2:00':'','2:30':'',\n",
        "                '3:00':'','3:30':'','4:30':'','5:00':''}\n",
        "kenTimeslot = {'9:00':'','9:30':'','10:00':'','10:30':'','11:00':'','11:30':'',\n",
        "               '12:00':'','12:30':'','1:00':'','1:30':'','2:00':'','2:30':'',\n",
        "               '3:00':'','3:30':'','4:30':'','5:00':''}"
      ],
      "execution_count": 0,
      "outputs": []
    },
    {
      "cell_type": "code",
      "metadata": {
        "id": "NXbvxASewS0y",
        "colab_type": "code",
        "colab": {}
      },
      "source": [
        ""
      ],
      "execution_count": 0,
      "outputs": []
    },
    {
      "cell_type": "code",
      "metadata": {
        "id": "5idmxgT4mcpN",
        "colab_type": "code",
        "outputId": "f134939a-8aea-4028-8ca6-b40703d2a145",
        "colab": {
          "base_uri": "https://localhost:8080/",
          "height": 136
        }
      },
      "source": [
        "\n",
        "jill = Doctor('Dr. Jill', jillTimeslot)\n",
        "ken = Doctor('Dr. Ken', kenTimeslot)\n",
        "doctorList = [jill, ken]\n",
        "selectDoctor(doctorList)\n",
        "\n",
        "while True:\n",
        "  pName = input('What is your first name? ')\n",
        "  time = input('What time do you want to schedule your appointment? ')\n",
        "  insertTime(doctor)\n",
        "  p = Patient(pName, time)\n",
        "\n",
        "  alreadyScheduled(p, doctor)\n",
        "  noSpotLeft(doctor)\n",
        "  insertAppointment(p, doctor)\n",
        "  chooseAnotherTime(p, doctor)\n",
        "\n",
        "  a = input('Is there another patient scheduling for an appointment? ')\n",
        "  if a.lower() == 'yes':\n",
        "    continue\n",
        "  else:\n",
        "    break\n",
        "\n"
      ],
      "execution_count": 25,
      "outputs": [
        {
          "output_type": "stream",
          "text": [
            "Do you want to schedule an appointment with Dr. Jill or Dr. Ken?Dr.Ken\n",
            "Sorry, please try again.\n",
            "Do you want to schedule an appointment with Dr. Jill or Dr. Ken?Dr. Ken\n",
            "What is your first name? Mike\n",
            "What time do you want to schedule your appointment? 9:00\n",
            "Mike already scheduled an appointment at 9:00\n",
            "Is there another patient scheduling for an appointment? 9:30\n"
          ],
          "name": "stdout"
        }
      ]
    }
  ]
}